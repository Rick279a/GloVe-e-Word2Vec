{
  "nbformat": 4,
  "nbformat_minor": 0,
  "metadata": {
    "colab": {
      "provenance": [],
      "authorship_tag": "ABX9TyO8y9M7ps7A3bgfOFT9k786",
      "include_colab_link": true
    },
    "kernelspec": {
      "name": "python3",
      "display_name": "Python 3"
    },
    "language_info": {
      "name": "python"
    }
  },
  "cells": [
    {
      "cell_type": "markdown",
      "metadata": {
        "id": "view-in-github",
        "colab_type": "text"
      },
      "source": [
        "<a href=\"https://colab.research.google.com/github/Rick279a/GloVe-e-Word2Vec/blob/main/GloVe.ipynb\" target=\"_parent\"><img src=\"https://colab.research.google.com/assets/colab-badge.svg\" alt=\"Open In Colab\"/></a>"
      ]
    },
    {
      "cell_type": "markdown",
      "source": [
        "** GloVe Relacao Entre Palavras **"
      ],
      "metadata": {
        "id": "TOmD3Gz59CoX"
      }
    },
    {
      "cell_type": "code",
      "execution_count": 14,
      "metadata": {
        "id": "4TIHjhFk9A3Y"
      },
      "outputs": [],
      "source": [
        "import gensim.downloader as api"
      ]
    },
    {
      "cell_type": "code",
      "source": [
        "# Carregar embeddings GloVe pré-treinados\n",
        "glove_model = api.load(\"glove-wiki-gigaword-100\")"
      ],
      "metadata": {
        "id": "nwlRQvBm9Ti_"
      },
      "execution_count": 15,
      "outputs": []
    },
    {
      "cell_type": "code",
      "source": [
        "# Obter vetor de palavra para uma palavra específica\n",
        "word_vector = glove_model['word']\n",
        "print(\"Vetor GloVe para a palavra 'word':\", word_vector)"
      ],
      "metadata": {
        "id": "2oLdr5Cg9TpX",
        "colab": {
          "base_uri": "https://localhost:8080/"
        },
        "outputId": "ad5b9304-ab40-44b2-ecb3-521daed744fb"
      },
      "execution_count": 21,
      "outputs": [
        {
          "output_type": "stream",
          "name": "stdout",
          "text": [
            "Vetor GloVe para a palavra 'word': [ 0.1233    0.55741   0.74203  -0.06547  -0.33485   0.81541  -0.16384\n",
            " -1.0327    0.41834  -0.012764 -0.60695   0.30146   0.35976   0.41161\n",
            "  0.03381  -0.091115  0.35077  -0.24798  -0.13128   0.19869   0.046961\n",
            "  0.014633 -0.39851  -0.11829  -0.27432  -0.032518 -0.23637  -0.072372\n",
            " -0.04237  -0.11159   0.12129   0.64011  -0.50275  -0.21584   0.30097\n",
            " -0.041772 -0.47972  -0.12897   0.6964   -0.27594  -0.29149   0.088033\n",
            "  0.12874  -0.15249  -0.20548   0.029435  0.055133 -0.12994  -0.33869\n",
            " -0.61891   0.4743    0.60288   1.0209    0.48663  -1.0587   -1.9711\n",
            " -0.41751   0.12457   1.304     0.26925   0.28003   0.91141  -0.62217\n",
            " -0.70356   1.0379   -0.095316  0.54085  -0.36123  -0.10311  -0.31059\n",
            " -0.61454   0.63799   0.18329  -0.49599   0.3607    0.70414  -0.28096\n",
            "  0.1062   -0.64866  -0.28698  -0.26623  -1.4502   -0.69456  -0.48722\n",
            " -1.6753    0.40353  -0.085219 -0.85528   0.65113   0.019457 -0.20924\n",
            "  0.18864  -0.12794   0.41757   0.097439 -0.58381  -0.38945  -0.15608\n",
            "  0.014198  0.65633 ]\n"
          ]
        }
      ]
    },
    {
      "cell_type": "code",
      "source": [
        "# Encontrar palavras mais similares\n",
        "similar_words = glove_model.most_similar('word', topn=5)\n",
        "print(\"Palavras mais similares a 'word':\", similar_words)"
      ],
      "metadata": {
        "id": "DP4zdUNn9UM3",
        "colab": {
          "base_uri": "https://localhost:8080/"
        },
        "outputId": "935fb201-62d2-427d-bc85-b9376d4307dc"
      },
      "execution_count": 22,
      "outputs": [
        {
          "output_type": "stream",
          "name": "stdout",
          "text": [
            "Palavras mais similares a 'word': [('phrase', 0.8634650707244873), ('meaning', 0.835418164730072), ('words', 0.830693781375885), ('name', 0.7795394659042358), ('language', 0.7464082837104797)]\n"
          ]
        }
      ]
    }
  ]
}